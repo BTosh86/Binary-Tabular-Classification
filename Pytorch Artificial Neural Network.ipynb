{
 "cells": [
  {
   "cell_type": "markdown",
   "metadata": {
    "id": "orF7uRKK-9XS"
   },
   "source": [
    "# Summary"
   ]
  },
  {
   "cell_type": "markdown",
   "metadata": {
    "id": "7h3C-krd-9AB"
   },
   "source": [
    "An Artificial Neural Network (ANN) was created to predict a bank’s member retention. This model was trained on the bank’s historical data which had features that included: member credit score, gender, location, length of membership, balance, and other features.\n",
    "\n",
    "This ANN was created using Fast.ai/Pytorch and reached an accuracy of 85.8% on the validation set"
   ]
  },
  {
   "cell_type": "markdown",
   "metadata": {
    "id": "Blyse-A6AGYy"
   },
   "source": [
    "# Data preprocessing"
   ]
  },
  {
   "cell_type": "code",
   "execution_count": 1,
   "metadata": {
    "executionInfo": {
     "elapsed": 3815,
     "status": "ok",
     "timestamp": 1614390371364,
     "user": {
      "displayName": "Tosh Edrisi",
      "photoUrl": "https://lh3.googleusercontent.com/a-/AOh14GjHne6OJWv-zUV9Rl05uopmkw5h1jzzLLOeUPDxVg=s64",
      "userId": "06049327166490884150"
     },
     "user_tz": 360
    },
    "id": "acMizSO5YHhA"
   },
   "outputs": [],
   "source": [
    "!pip install -Uqq fastbook\n",
    "from fastai import *\n",
    "from fastai.tabular.all import *\n",
    "import pandas as pd\n",
    "import numpy as np"
   ]
  },
  {
   "cell_type": "code",
   "execution_count": 2,
   "metadata": {
    "colab": {
     "base_uri": "https://localhost:8080/",
     "height": 204
    },
    "executionInfo": {
     "elapsed": 3807,
     "status": "ok",
     "timestamp": 1614390371367,
     "user": {
      "displayName": "Tosh Edrisi",
      "photoUrl": "https://lh3.googleusercontent.com/a-/AOh14GjHne6OJWv-zUV9Rl05uopmkw5h1jzzLLOeUPDxVg=s64",
      "userId": "06049327166490884150"
     },
     "user_tz": 360
    },
    "id": "VyjxtsQMZwKV",
    "outputId": "e95b6b76-a7fe-4618-d633-b93d76ac71a4"
   },
   "outputs": [
    {
     "data": {
      "text/html": [
       "<div>\n",
       "<style scoped>\n",
       "    .dataframe tbody tr th:only-of-type {\n",
       "        vertical-align: middle;\n",
       "    }\n",
       "\n",
       "    .dataframe tbody tr th {\n",
       "        vertical-align: top;\n",
       "    }\n",
       "\n",
       "    .dataframe thead th {\n",
       "        text-align: right;\n",
       "    }\n",
       "</style>\n",
       "<table border=\"1\" class=\"dataframe\">\n",
       "  <thead>\n",
       "    <tr style=\"text-align: right;\">\n",
       "      <th></th>\n",
       "      <th>CreditScore</th>\n",
       "      <th>Geography</th>\n",
       "      <th>Gender</th>\n",
       "      <th>Age</th>\n",
       "      <th>Tenure</th>\n",
       "      <th>Balance</th>\n",
       "      <th>NumOfProducts</th>\n",
       "      <th>HasCrCard</th>\n",
       "      <th>IsActiveMember</th>\n",
       "      <th>EstimatedSalary</th>\n",
       "      <th>Exited</th>\n",
       "    </tr>\n",
       "  </thead>\n",
       "  <tbody>\n",
       "    <tr>\n",
       "      <th>0</th>\n",
       "      <td>619</td>\n",
       "      <td>France</td>\n",
       "      <td>Female</td>\n",
       "      <td>42</td>\n",
       "      <td>2</td>\n",
       "      <td>0.00</td>\n",
       "      <td>1</td>\n",
       "      <td>1</td>\n",
       "      <td>1</td>\n",
       "      <td>101348.88</td>\n",
       "      <td>1</td>\n",
       "    </tr>\n",
       "    <tr>\n",
       "      <th>1</th>\n",
       "      <td>608</td>\n",
       "      <td>Spain</td>\n",
       "      <td>Female</td>\n",
       "      <td>41</td>\n",
       "      <td>1</td>\n",
       "      <td>83807.86</td>\n",
       "      <td>1</td>\n",
       "      <td>0</td>\n",
       "      <td>1</td>\n",
       "      <td>112542.58</td>\n",
       "      <td>0</td>\n",
       "    </tr>\n",
       "    <tr>\n",
       "      <th>2</th>\n",
       "      <td>502</td>\n",
       "      <td>France</td>\n",
       "      <td>Female</td>\n",
       "      <td>42</td>\n",
       "      <td>8</td>\n",
       "      <td>159660.80</td>\n",
       "      <td>3</td>\n",
       "      <td>1</td>\n",
       "      <td>0</td>\n",
       "      <td>113931.57</td>\n",
       "      <td>1</td>\n",
       "    </tr>\n",
       "    <tr>\n",
       "      <th>3</th>\n",
       "      <td>699</td>\n",
       "      <td>France</td>\n",
       "      <td>Female</td>\n",
       "      <td>39</td>\n",
       "      <td>1</td>\n",
       "      <td>0.00</td>\n",
       "      <td>2</td>\n",
       "      <td>0</td>\n",
       "      <td>0</td>\n",
       "      <td>93826.63</td>\n",
       "      <td>0</td>\n",
       "    </tr>\n",
       "    <tr>\n",
       "      <th>4</th>\n",
       "      <td>850</td>\n",
       "      <td>Spain</td>\n",
       "      <td>Female</td>\n",
       "      <td>43</td>\n",
       "      <td>2</td>\n",
       "      <td>125510.82</td>\n",
       "      <td>1</td>\n",
       "      <td>1</td>\n",
       "      <td>1</td>\n",
       "      <td>79084.10</td>\n",
       "      <td>0</td>\n",
       "    </tr>\n",
       "  </tbody>\n",
       "</table>\n",
       "</div>"
      ],
      "text/plain": [
       "   CreditScore Geography  Gender  ...  IsActiveMember  EstimatedSalary  Exited\n",
       "0          619    France  Female  ...               1        101348.88       1\n",
       "1          608     Spain  Female  ...               1        112542.58       0\n",
       "2          502    France  Female  ...               0        113931.57       1\n",
       "3          699    France  Female  ...               0         93826.63       0\n",
       "4          850     Spain  Female  ...               1         79084.10       0\n",
       "\n",
       "[5 rows x 11 columns]"
      ]
     },
     "execution_count": 2,
     "metadata": {
      "tags": []
     },
     "output_type": "execute_result"
    }
   ],
   "source": [
    "#Import the dataset and conduct the initial preprocessing\n",
    "dataset = pd.read_csv('Churn_Modeling.csv').iloc[:,3:]\n",
    "dataset.head()"
   ]
  },
  {
   "cell_type": "markdown",
   "metadata": {
    "id": "-g4PLVVOAeBO"
   },
   "source": [
    "# Building and training the ANN"
   ]
  },
  {
   "cell_type": "code",
   "execution_count": 3,
   "metadata": {
    "executionInfo": {
     "elapsed": 13924,
     "status": "ok",
     "timestamp": 1614390381492,
     "user": {
      "displayName": "Tosh Edrisi",
      "photoUrl": "https://lh3.googleusercontent.com/a-/AOh14GjHne6OJWv-zUV9Rl05uopmkw5h1jzzLLOeUPDxVg=s64",
      "userId": "06049327166490884150"
     },
     "user_tz": 360
    },
    "id": "XPP8npVCaxRY"
   },
   "outputs": [],
   "source": [
    "#Specify the continuous and categorical data columns and set up the data\n",
    "cat_names = ['Geography', 'Gender']\n",
    "cont_names = ['CreditScore', 'Age', 'Tenure', 'Balance', 'NumOfProducts', 'HasCrCard', 'IsActiveMember', 'EstimatedSalary']\n",
    "procs = [Categorify, FillMissing, Normalize]\n",
    "to = TabularPandas(dataset, procs, cat_names, cont_names, y_names='Exited', y_block=CategoryBlock, \n",
    "                   splits=RandomSplitter(valid_pct=0.25, seed=1)(range_of(dataset)))\n",
    "dls = to.dataloaders(bs=16)"
   ]
  },
  {
   "cell_type": "code",
   "execution_count": 4,
   "metadata": {
    "executionInfo": {
     "elapsed": 13930,
     "status": "ok",
     "timestamp": 1614390381503,
     "user": {
      "displayName": "Tosh Edrisi",
      "photoUrl": "https://lh3.googleusercontent.com/a-/AOh14GjHne6OJWv-zUV9Rl05uopmkw5h1jzzLLOeUPDxVg=s64",
      "userId": "06049327166490884150"
     },
     "user_tz": 360
    },
    "id": "efjB119to4bz"
   },
   "outputs": [],
   "source": [
    "#Create the learner\n",
    "learn = tabular_learner(dls, layers=[3000], metrics=accuracy)"
   ]
  },
  {
   "cell_type": "code",
   "execution_count": 9,
   "metadata": {
    "colab": {
     "base_uri": "https://localhost:8080/",
     "height": 359
    },
    "executionInfo": {
     "elapsed": 48612,
     "status": "ok",
     "timestamp": 1614390539815,
     "user": {
      "displayName": "Tosh Edrisi",
      "photoUrl": "https://lh3.googleusercontent.com/a-/AOh14GjHne6OJWv-zUV9Rl05uopmkw5h1jzzLLOeUPDxVg=s64",
      "userId": "06049327166490884150"
     },
     "user_tz": 360
    },
    "id": "p7qMk13RqxnM",
    "outputId": "8e3ad59e-ba8e-47ab-d77f-0c99e7d6c66d"
   },
   "outputs": [
    {
     "data": {
      "text/html": [
       "<table border=\"1\" class=\"dataframe\">\n",
       "  <thead>\n",
       "    <tr style=\"text-align: left;\">\n",
       "      <th>epoch</th>\n",
       "      <th>train_loss</th>\n",
       "      <th>valid_loss</th>\n",
       "      <th>accuracy</th>\n",
       "      <th>time</th>\n",
       "    </tr>\n",
       "  </thead>\n",
       "  <tbody>\n",
       "    <tr>\n",
       "      <td>0</td>\n",
       "      <td>0.369416</td>\n",
       "      <td>0.353148</td>\n",
       "      <td>0.854000</td>\n",
       "      <td>00:04</td>\n",
       "    </tr>\n",
       "    <tr>\n",
       "      <td>1</td>\n",
       "      <td>0.412209</td>\n",
       "      <td>0.369747</td>\n",
       "      <td>0.852800</td>\n",
       "      <td>00:04</td>\n",
       "    </tr>\n",
       "    <tr>\n",
       "      <td>2</td>\n",
       "      <td>0.385471</td>\n",
       "      <td>0.386387</td>\n",
       "      <td>0.840800</td>\n",
       "      <td>00:04</td>\n",
       "    </tr>\n",
       "    <tr>\n",
       "      <td>3</td>\n",
       "      <td>0.377138</td>\n",
       "      <td>0.361753</td>\n",
       "      <td>0.849200</td>\n",
       "      <td>00:04</td>\n",
       "    </tr>\n",
       "    <tr>\n",
       "      <td>4</td>\n",
       "      <td>0.375733</td>\n",
       "      <td>0.373729</td>\n",
       "      <td>0.846800</td>\n",
       "      <td>00:04</td>\n",
       "    </tr>\n",
       "    <tr>\n",
       "      <td>5</td>\n",
       "      <td>0.389861</td>\n",
       "      <td>0.352687</td>\n",
       "      <td>0.858400</td>\n",
       "      <td>00:04</td>\n",
       "    </tr>\n",
       "    <tr>\n",
       "      <td>6</td>\n",
       "      <td>0.373352</td>\n",
       "      <td>0.349646</td>\n",
       "      <td>0.855600</td>\n",
       "      <td>00:04</td>\n",
       "    </tr>\n",
       "    <tr>\n",
       "      <td>7</td>\n",
       "      <td>0.351974</td>\n",
       "      <td>0.341788</td>\n",
       "      <td>0.859600</td>\n",
       "      <td>00:04</td>\n",
       "    </tr>\n",
       "    <tr>\n",
       "      <td>8</td>\n",
       "      <td>0.333549</td>\n",
       "      <td>0.341859</td>\n",
       "      <td>0.857200</td>\n",
       "      <td>00:04</td>\n",
       "    </tr>\n",
       "    <tr>\n",
       "      <td>9</td>\n",
       "      <td>0.332910</td>\n",
       "      <td>0.343653</td>\n",
       "      <td>0.858400</td>\n",
       "      <td>00:04</td>\n",
       "    </tr>\n",
       "  </tbody>\n",
       "</table>"
      ],
      "text/plain": [
       "<IPython.core.display.HTML object>"
      ]
     },
     "metadata": {
      "tags": []
     },
     "output_type": "display_data"
    }
   ],
   "source": [
    "#Train the model\n",
    "learn.fit_one_cycle(10)"
   ]
  },
  {
   "cell_type": "markdown",
   "metadata": {
    "id": "3K0dP5yGC2E9"
   },
   "source": [
    "# Evaluating the model"
   ]
  },
  {
   "cell_type": "code",
   "execution_count": 10,
   "metadata": {
    "colab": {
     "base_uri": "https://localhost:8080/",
     "height": 311
    },
    "executionInfo": {
     "elapsed": 1328,
     "status": "ok",
     "timestamp": 1614390557763,
     "user": {
      "displayName": "Tosh Edrisi",
      "photoUrl": "https://lh3.googleusercontent.com/a-/AOh14GjHne6OJWv-zUV9Rl05uopmkw5h1jzzLLOeUPDxVg=s64",
      "userId": "06049327166490884150"
     },
     "user_tz": 360
    },
    "id": "eJrA5cH7CxuU",
    "outputId": "c635d998-1422-4da9-a314-941b352d898f"
   },
   "outputs": [
    {
     "data": {
      "text/html": [],
      "text/plain": [
       "<IPython.core.display.HTML object>"
      ]
     },
     "metadata": {
      "tags": []
     },
     "output_type": "display_data"
    },
    {
     "data": {
      "image/png": "[encoded data removed]",
      "text/plain": [
       "<Figure size 432x288 with 1 Axes>"
      ]
     },
     "metadata": {
      "needs_background": "light",
      "tags": []
     },
     "output_type": "display_data"
    }
   ],
   "source": [
    "cm = ClassificationInterpretation.from_learner(learn)\n",
    "cm.plot_confusion_matrix()"
   ]
  },
  {
   "cell_type": "code",
   "execution_count": 12,
   "metadata": {
    "colab": {
     "base_uri": "https://localhost:8080/",
     "height": 34
    },
    "executionInfo": {
     "elapsed": 310,
     "status": "ok",
     "timestamp": 1614390561944,
     "user": {
      "displayName": "Tosh Edrisi",
      "photoUrl": "https://lh3.googleusercontent.com/a-/AOh14GjHne6OJWv-zUV9Rl05uopmkw5h1jzzLLOeUPDxVg=s64",
      "userId": "06049327166490884150"
     },
     "user_tz": 360
    },
    "id": "yD_Iz4Bi5mbl",
    "outputId": "0d118a03-2210-4a81-ba24-e9662444ef04"
   },
   "outputs": [
    {
     "data": {
      "text/html": [],
      "text/plain": [
       "<IPython.core.display.HTML object>"
      ]
     },
     "metadata": {
      "tags": []
     },
     "output_type": "display_data"
    },
    {
     "data": {
      "text/plain": [
       "tensor(0)"
      ]
     },
     "execution_count": 12,
     "metadata": {
      "tags": []
     },
     "output_type": "execute_result"
    }
   ],
   "source": [
    "#Making a single prediction\n",
    "#The model predicts that an active member (with a credit card) that is a 35 year old male from France with a credit score \n",
    "#of 500 that's been with the bank for 2 years and has a $2500 balance with an estimated $30,000 annual income will not leave\n",
    "new_pred_dict = {'Geography':['France'],'Gender':['Male'], 'Age':[35], 'Tenure':[2], 'Balance':[2500], 'NumOfProducts':[1],\t\n",
    "                            'HasCrCard':[1],\t'IsActiveMember':[1],\t'EstimatedSalary':[30000], 'CreditScore':[500]}\n",
    "new_preds = pd.DataFrame.from_dict(new_pred_dict)\n",
    "learn.predict(new_preds.iloc[0])[1]"
   ]
  }
 ],
 "metadata": {
  "accelerator": "GPU",
  "colab": {
   "collapsed_sections": [],
   "name": "ANN - Pytorch.ipynb",
   "provenance": []
  },
  "kernelspec": {
   "display_name": "Python 3",
   "language": "python",
   "name": "python3"
  },
  "language_info": {
   "codemirror_mode": {
    "name": "ipython",
    "version": 3
   },
   "file_extension": ".py",
   "mimetype": "text/x-python",
   "name": "python",
   "nbconvert_exporter": "python",
   "pygments_lexer": "ipython3",
   "version": "3.8.5"
  }
 },
 "nbformat": 4,
 "nbformat_minor": 1
}
